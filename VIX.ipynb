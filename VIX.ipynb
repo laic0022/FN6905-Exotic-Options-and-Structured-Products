{
 "cells": [
  {
   "cell_type": "code",
   "execution_count": 1,
   "metadata": {},
   "outputs": [],
   "source": [
    "import numpy as np\n",
    "import pandas as pd\n",
    "import yfinance as yf\n",
    "from datetime import timedelta"
   ]
  },
  {
   "cell_type": "code",
   "execution_count": 2,
   "metadata": {},
   "outputs": [],
   "source": [
    "# Fetch S&P 500 data (Ticker symbol for S&P 500 on Yahoo Finance is ^SPX)\n",
    "tk = yf.Ticker(\"^SPX\")\n",
    "\n",
    "# Expiration dates\n",
    "exps = tk.options\n",
    "\n",
    "# Get options for each expiration\n",
    "options = pd.DataFrame()\n",
    "for e in exps:\n",
    "    opt = tk.option_chain(e)\n",
    "    opt.calls['optionType'] = 'Call'\n",
    "    opt.puts['optionType'] = 'Put'\n",
    "    opt.calls['expirationDate'] = e\n",
    "    opt.puts['expirationDate'] = e\n",
    "    \n",
    "    options = pd.concat([options, pd.concat([opt.calls, opt.puts])])\n",
    "options = options.reset_index(drop=True)\n",
    "options['midPrice'] = (options['bid'] + options['ask']) / 2\n",
    "options['expirationDate'] = pd.to_datetime(options['expirationDate'])"
   ]
  },
  {
   "cell_type": "code",
   "execution_count": 23,
   "metadata": {},
   "outputs": [],
   "source": [
    "# trading date\n",
    "t0 = pd.to_datetime(opt.underlying['regularMarketTime'] * 1000, unit='ms').normalize()\n",
    "\n",
    "# forward-looking days\n",
    "tau = 30\n",
    "\n",
    "t0plustau = t0 + timedelta(tau)\n",
    "\n",
    "# create friday weekly\n",
    "wfri = pd.date_range(t0, periods=10, freq='W-FRI')"
   ]
  },
  {
   "cell_type": "code",
   "execution_count": 17,
   "metadata": {},
   "outputs": [
    {
     "name": "stdout",
     "output_type": "stream",
     "text": [
      "2024-05-10 00:00:00 2024-05-17 00:00:00\n"
     ]
    }
   ],
   "source": [
    "tenor1_idx = np.where(t0plustau > wfri)[0][-1]\n",
    "tenor2_idx = np.where(t0plustau < wfri)[0][0]\n",
    "\n",
    "tenor1 = wfri[tenor1_idx]\n",
    "tenor2 = wfri[tenor2_idx]\n",
    "\n",
    "print(tenor1, tenor2)"
   ]
  },
  {
   "cell_type": "code",
   "execution_count": 18,
   "metadata": {},
   "outputs": [
    {
     "data": {
      "text/plain": [
       "(5123.41, 5135.214439350358, 5138.169796377742)"
      ]
     },
     "execution_count": 18,
     "metadata": {},
     "output_type": "execute_result"
    }
   ],
   "source": [
    "S0 = opt.underlying['regularMarketPrice']\n",
    "\n",
    "# Parameters for calculating forward price\n",
    "tau1 = (tenor1 - t0).days / 365  # expressed in years\n",
    "tau2 = (tenor2 - t0).days / 365\n",
    "\n",
    "r = 0.03    # Risk-free rate\n",
    "F0_tau1 = S0 * np.exp(r * tau1)  # Forward price\n",
    "F0_tau2 = S0 * np.exp(r * tau2)\n",
    "\n",
    "S0, F0_tau1, F0_tau2"
   ]
  },
  {
   "cell_type": "code",
   "execution_count": 19,
   "metadata": {},
   "outputs": [],
   "source": [
    "# VIX formula function at the certain maturity\n",
    "def vol_from_opt_price(options, tenor ,tau, F0):\n",
    "    opts = options[options['expirationDate'] == tenor]\n",
    "    puts = opts[opts['optionType'] == 'Put']\n",
    "    puts = puts[puts['strike'] < F0]\n",
    "\n",
    "\n",
    "    calls = opts[opts['optionType'] == 'Call']\n",
    "\n",
    "    kgeqf = np.where(calls['strike'] >= F0)[0]\n",
    "    calls = calls.iloc[np.append(kgeqf[0] - 1, kgeqf)]\n",
    "\n",
    "    Ki = puts['strike']\n",
    "    Qi = puts['midPrice']\n",
    "\n",
    "    putsidevol = (Qi * (1 / Ki - 1 / Ki.shift(-1))).sum()\n",
    "    Ki = calls['strike']\n",
    "    Qi = calls['midPrice']\n",
    "\n",
    "    callsidevol = (Qi * (1 / Ki - 1 / Ki.shift(-1))).sum()\n",
    "    \n",
    "    return 2 / tau * np.exp(r * tau) * (putsidevol + callsidevol) - 1 / tau * (F0 / calls.iloc[0].strike - 1) ** 2"
   ]
  },
  {
   "cell_type": "code",
   "execution_count": 24,
   "metadata": {},
   "outputs": [],
   "source": [
    "Near_vol = vol_from_opt_price(options, tenor1, tau1, F0_tau1)\n",
    "Nextterm_vol = vol_from_opt_price(options, tenor2, tau2, F0_tau2)"
   ]
  },
  {
   "cell_type": "code",
   "execution_count": 32,
   "metadata": {},
   "outputs": [
    {
     "name": "stdout",
     "output_type": "stream",
     "text": [
      "The VIX calculated from market option data: 18.11\n",
      "The VIX from Yahoo Finance: 17.31\n"
     ]
    }
   ],
   "source": [
    "tweight1 = (tenor2 - t0plustau).days / (tenor2 - tenor1).days\n",
    "tweight2 = (t0plustau - tenor1).days / (tenor2 - tenor1).days\n",
    "\n",
    "vix = np.sqrt((tau1 * Near_vol * tweight1 + tau2 * Nextterm_vol * tweight2) * 365 / tau) * 100\n",
    "\n",
    "realvix = yf.Ticker(\"^VIX\")  # or \"^GSPC\"\n",
    "data = realvix.history(period=\"1d\")\n",
    "\n",
    "print(f\"The VIX calculated from market option data: {vix:.2f}\")\n",
    "print(f\"The VIX from Yahoo Finance: {data['Close'].iloc[-1]:.2f}\")"
   ]
  },
  {
   "cell_type": "code",
   "execution_count": null,
   "metadata": {},
   "outputs": [],
   "source": []
  }
 ],
 "metadata": {
  "kernelspec": {
   "display_name": "FN6905",
   "language": "python",
   "name": "python3"
  },
  "language_info": {
   "codemirror_mode": {
    "name": "ipython",
    "version": 3
   },
   "file_extension": ".py",
   "mimetype": "text/x-python",
   "name": "python",
   "nbconvert_exporter": "python",
   "pygments_lexer": "ipython3",
   "version": "3.11.8"
  }
 },
 "nbformat": 4,
 "nbformat_minor": 2
}
