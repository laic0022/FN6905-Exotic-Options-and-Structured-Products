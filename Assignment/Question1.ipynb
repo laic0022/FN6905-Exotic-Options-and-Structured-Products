{
 "cells": [
  {
   "cell_type": "code",
   "execution_count": 1,
   "metadata": {},
   "outputs": [],
   "source": [
    "import pandas as pd\n",
    "import numpy as np\n",
    "import matplotlib.pyplot as plt\n",
    "import scipy.stats as sps\n",
    "import numpy.random as npr"
   ]
  },
  {
   "cell_type": "markdown",
   "metadata": {},
   "source": [
    "#### 1. Textbook version of two assets correlation call option price"
   ]
  },
  {
   "cell_type": "code",
   "execution_count": 2,
   "metadata": {},
   "outputs": [
    {
     "name": "stdout",
     "output_type": "stream",
     "text": [
      "The two assets correlation call option premium:  4.707330012666844\n"
     ]
    }
   ],
   "source": [
    "S_a = 52\n",
    "S_b = 65\n",
    "X_1 = 50\n",
    "X_2 = 70\n",
    "rf = 0.1\n",
    "b_1 = 0.1\n",
    "b_2 = 0.1\n",
    "sigma_1 = 0.2\n",
    "sigma_2 = 0.3\n",
    "rho = 0.75\n",
    "T = 0.5\n",
    "\n",
    "y1 = (np.log(S_a / X_1) + (b_1 - sigma_1 ** 2 / 2) * T) / (sigma_1 * np.sqrt(T))\n",
    "y2 = (np.log(S_b / X_2) + (b_2 - sigma_2 ** 2 / 2) * T) / (sigma_2 * np.sqrt(T))\n",
    "\n",
    "def std_bi_nd_cdf(x, y, rho):\n",
    "    return sps.multivariate_normal.cdf([x, y], mean=[0, 0], cov=np.array([[1, rho], [rho, 1]]))\n",
    "\n",
    "m1 = std_bi_nd_cdf(y2 + sigma_2 * np.sqrt(T), y1 + rho * sigma_2 * np.sqrt(T), rho)\n",
    "m2 = std_bi_nd_cdf(y2, y1, rho)\n",
    "\n",
    "c = S_b * np.exp((b_2 - rf) * T) * m1 - X_2 * np.exp(- rf * T) * m2\n",
    "print('The two assets correlation call option premium: ', c)"
   ]
  },
  {
   "cell_type": "markdown",
   "metadata": {},
   "source": [
    "#### 2. The correct closed-form of two assets correlation call option"
   ]
  },
  {
   "cell_type": "code",
   "execution_count": 3,
   "metadata": {},
   "outputs": [
    {
     "name": "stdout",
     "output_type": "stream",
     "text": [
      "The two assets correlation call option premium:  3.2425278975519625\n"
     ]
    }
   ],
   "source": [
    "# The correct pricing formula of two assets correlation call option\n",
    "\n",
    "y1 = (np.log(S_a / X_1) + (rf - b_1 - sigma_1 ** 2 / 2) * T) / (sigma_1 * np.sqrt(T))\n",
    "y2 = (np.log(S_b / X_2) + (rf - b_2 - sigma_2 ** 2 / 2) * T) / (sigma_2 * np.sqrt(T))\n",
    "\n",
    "def std_bi_nd_cdf(x, y, rho):\n",
    "    return sps.multivariate_normal.cdf([x, y], mean=[0, 0], cov=np.array([[1, rho], [rho, 1]]))\n",
    "\n",
    "m1 = std_bi_nd_cdf(y2 + sigma_2 * np.sqrt(T), y1 + rho * sigma_2 * np.sqrt(T), rho)\n",
    "m2 = std_bi_nd_cdf(y2, y1, rho)\n",
    "\n",
    "c = S_b * np.exp((-b_2) * T) * m1 - X_2 * np.exp(- rf * T) * m2\n",
    "print('The two assets correlation call option premium: ', c)"
   ]
  },
  {
   "cell_type": "markdown",
   "metadata": {},
   "source": [
    "#### 3. The derivation of closed-form of two assets correlation call option"
   ]
  },
  {
   "cell_type": "markdown",
   "metadata": {},
   "source": [
    "$$\n",
    "\\begin{align*}\n",
    "S_T^{(2)}>X_2 &\\Rightarrow S_0^{(2)}e^{\\sigma_2\\sqrt{T}x + (r-b_2-\\frac{\\sigma_2^2}{2})T}>X_2\n",
    "\\\\\n",
    "&\\Rightarrow x>-\\frac{ln(\\frac{S_0^{(2)}}{X_2})+(r-b_2-\\frac{\\sigma_2^2}{2}T)}{\\sigma_2\\sqrt{T}}=-y_2\n",
    "\\\\\n",
    "S_T^{(1)}>X_1 &\\Rightarrow S_0^{(1)}e^{\\sigma_1\\sqrt{T}y + (r-b_1-\\frac{\\sigma_1^2}{2})T}>X_1\n",
    "\\\\\n",
    "&\\Rightarrow y>-\\frac{ln(\\frac{S_0^{(1)}}{X_1})+(r-b_1-\\frac{\\sigma_1^2}{2}T)}{\\sigma_1\\sqrt{T}}=-y_1\n",
    "\\end{align*} \n",
    "$$"
   ]
  },
  {
   "cell_type": "markdown",
   "metadata": {},
   "source": [
    "$$\n",
    "\\begin{align*}\n",
    "e^{-rT}\\mathbb{E}^Q[\\mathbb{1}_{\\{S_T^{(1)}>X_1\\}}(S_T^{(2)} - X_2)^+] &= e^{-rT}\\int_{-y_1}^{\\infty}\\int_{-y_2}^{\\infty}(S_0^{(2)}e^{\\sigma_2\\sqrt{T}x + (r-b_2-\\frac{\\sigma_2^2}{2})T}-X_2)\\frac{1}{2 \\pi \\sqrt{1-\\rho}}e^{-\\frac{1}{2(1-\\rho^2)}(x^2-\\rho xy+y^2)}\\mathrm{d} x\\mathrm{d} y\n",
    "\\\\\n",
    "&=e^{-rT}\\int_{-y_1}^{\\infty}\\int_{-y_2}^{\\infty}(S_0^{(2)}e^{\\sigma_2\\sqrt{T}x + (r-b_2-\\frac{\\sigma_2^2}{2})T})\\frac{1}{2 \\pi \\sqrt{1-\\rho}}e^{-\\frac{1}{2(1-\\rho^2)}(x^2-\\rho xy+y^2)}\\mathrm{d} x\\mathrm{d} y\n",
    "\\\\\n",
    "&\\quad-\n",
    "\n",
    "e^{-rT}\\int_{-y_1}^{\\infty}\\int_{-y_2}^{\\infty}X_2\\frac{1}{2 \\pi \\sqrt{1-\\rho}}e^{-\\frac{1}{2(1-\\rho^2)}(x^2-\\rho xy+y^2)}\\mathrm{d} x\\mathrm{d} y\n",
    "\\end{align*} \n",
    "$$"
   ]
  },
  {
   "cell_type": "markdown",
   "metadata": {},
   "source": [
    "For the first term:\n",
    "\n",
    "$$\n",
    "\\begin{align*}\n",
    "&e^{-rT}\\int_{-y_1}^{\\infty}\\int_{-y_2}^{\\infty}(S_0^{(2)}e^{\\sigma_2\\sqrt{T}x + (r-b_2-\\frac{\\sigma_2^2}{2})T})\\frac{1}{2 \\pi \\sqrt{1-\\rho^2}}e^{-\\frac{1}{2(1-\\rho^2)}(x^2-\\rho xy+y^2)}\\mathrm{d} x\\mathrm{d} y\n",
    "\\\\\n",
    "z_1 = y-\\rho\\sigma_2\\sqrt{T}\n",
    "\\\\\n",
    "z_2 = x-\\sigma_2\\sqrt{T}\n",
    "\\\\\n",
    "&=S_0^{(2)}e^{-b_2 T}\\int_{-y_1-\\rho\\sigma_2\\sqrt{T}}^{\\infty}\\int_{-y_2-\\sigma_{2}\\sqrt{T}}^{\\infty}\\frac{1}{2 \\pi \\sqrt{1-\\rho^2}}e^{\\frac{\\sigma_2^2}{2}T+\\sigma^2\\sqrt{T}z_2-\\frac{1}{2 \\pi \\sqrt{1-\\rho^2}}((z_2+\\sigma_2\\sqrt{T})^2-2\\rho(z_2+\\sigma_2\\sqrt{T})(z_1+\\rho\\sigma_2\\sqrt{T})+(z_1+\\rho\\sigma_2\\sqrt{T})^2))}\\mathrm{d} z_2\\mathrm{d} z_1\n",
    "\\\\\n",
    "&=S_0^{(2)}e^{-b_2 T}\\int_{-y_1-\\rho\\sigma_2\\sqrt{T}}^{\\infty}\\int_{-y_2-\\sigma_{2}\\sqrt{T}}^{\\infty}\\frac{1}{2 \\pi \\sqrt{1-\\rho^2}}e^{(z_1^2-2\\rho z_1z_2+z_2^2)}\\mathrm{d} z_2\\mathrm{d} z_1\n",
    "\\\\\n",
    "&=S_0^{(2)}e^{-b_2 T}\\int_{-\\infty}^{y_1+\\rho\\sigma_2\\sqrt{T}}\\int_{-\\infty}^{y_2+\\sigma_{2}\\sqrt{T}}\\frac{1}{2 \\pi \\sqrt{1-\\rho^2}}e^{(z_1^2-2\\rho z_1z_2+z_2^2)}\\mathrm{d} z_2\\mathrm{d} z_1\n",
    "\\\\\n",
    "&=S_0^{(2)}e^{-b_2 T}M(y_2+\\sigma_{2}\\sqrt{T},y_1+\\rho\\sigma_2\\sqrt{T},\\rho)\n",
    "\\end{align*} \n",
    "$$"
   ]
  },
  {
   "cell_type": "markdown",
   "metadata": {},
   "source": [
    "For the second term:\n",
    "\n",
    "$$\n",
    "\\begin{align*}\n",
    "&e^{-rT}\\int_{-y_1}^{\\infty}\\int_{-y_2}^{\\infty}X_2\\frac{1}{2 \\pi \\sqrt{1-\\rho}}e^{-\\frac{1}{2(1-\\rho^2)}(x^2-\\rho xy+y^2)}\\mathrm{d} x\\mathrm{d} y\n",
    "\\\\\n",
    "&=e^{-rT}\\int_{-\\infty}^{y_1}\\int_{-\\infty}^{y_2}X_2\\frac{1}{2 \\pi \\sqrt{1-\\rho}}e^{-\\frac{1}{2(1-\\rho^2)}(x^2-\\rho xy+y^2)}\\mathrm{d} x\\mathrm{d} y\n",
    "\\\\\n",
    "&=X_2 e^{-rT}M(y_2, y_1, \\rho)\n",
    "\\end{align*} \n",
    "$$"
   ]
  },
  {
   "cell_type": "markdown",
   "metadata": {},
   "source": [
    "$$\n",
    "\\begin{align*}\n",
    "\\Rightarrow e^{-rT}\\mathbb{E}^Q[\\mathbb{1}_{\\{S_T^{(1)})>X_1\\}}(S_T^{(2)} - X_2)^+] &= S_0^{(2)}e^{-b_2 T}M(y_2+\\sigma_{2}\\sqrt{T},y_1+\\rho\\sigma_2\\sqrt{T},\\rho)-X_2 e^{-rT}M(y_2, y_1, \\rho)\n",
    "\\\\\n",
    ",where \\quad y_1&=\\frac{ln(\\frac{S_0^{(1)}}{X_1})+(r-b_1-\\frac{\\sigma_1^2}{2}T)}{\\sigma_1\\sqrt{T}}\n",
    "\\\\\n",
    "y_2&=\\frac{ln(\\frac{S_0^{(2)}}{X_2})+(r-b_2-\\frac{\\sigma_2^2}{2}T)}{\\sigma_2\\sqrt{T}}\n",
    "\\end{align*} \n",
    "$$"
   ]
  },
  {
   "cell_type": "markdown",
   "metadata": {},
   "source": [
    "#### 4. Using Monte Carlo Mehtod to price the two assets correlation call option"
   ]
  },
  {
   "cell_type": "code",
   "execution_count": 4,
   "metadata": {},
   "outputs": [
    {
     "name": "stdout",
     "output_type": "stream",
     "text": [
      "Input correlation matrix: \n",
      "[[1.   0.75]\n",
      " [0.75 1.  ]]\n",
      "\n"
     ]
    }
   ],
   "source": [
    "# Use Cholesky decomposition to generate samples from bivariate normal distribution\n",
    "corr = np.array([[1, rho], [rho, 1]])\n",
    "print(f\"Input correlation matrix: \\n{corr}\\n\")\n",
    "\n",
    "chol = np.linalg.cholesky(corr)\n",
    "z = np.matmul(chol, npr.normal(size=(2, 10000000)))"
   ]
  },
  {
   "cell_type": "code",
   "execution_count": 5,
   "metadata": {},
   "outputs": [
    {
     "name": "stdout",
     "output_type": "stream",
     "text": [
      "[[1.         0.74606586]\n",
      " [0.74606586 1.        ]]\n",
      "The two asset correlation call option price from the Monte Carlo method:  3.2394208619516367\n"
     ]
    }
   ],
   "source": [
    "# The GBM formula\n",
    "def gbm(S_0, rf, q, sigma, delta_t, z):\n",
    "    return S_0 * np.exp((rf - q - sigma**2 / 2) * delta_t + sigma * np.sqrt(delta_t) * z)\n",
    "\n",
    "p1 = gbm(S_a, rf, b_1, sigma_1, T, z[0, :])\n",
    "p2 = gbm(S_b, rf, b_2, sigma_2, T, z[1, :])\n",
    "\n",
    "# Calculate the correlation between the two price paths' return\n",
    "print(np.corrcoef(p1 / S_a - 1, p2 / S_b - 1))\n",
    "\n",
    "callpayoff = np.maximum(p2 - X_2, 0) * (p1 > X_1)\n",
    "print('The two asset correlation call option price from the Monte Carlo method: ', np.exp(- rf * T) * callpayoff.mean())"
   ]
  },
  {
   "cell_type": "markdown",
   "metadata": {},
   "source": [
    "#### 5. Use expectation method to get call price\n",
    "\n",
    "$$\n",
    "callprice = e^{-rT}\\mathbb{E}^Q[\\mathbb{1}_{\\{S_1>X_1\\}}(S_2 - X_2)^+]\n",
    "$$"
   ]
  },
  {
   "cell_type": "markdown",
   "metadata": {},
   "source": [
    "##### Monte Carlo Integration\n",
    "\n",
    "Monte Carlo integration is a technique that uses random sampling to approximate definite integrals. For a function $q(x)$ over the interval $[a, b]$, the integral can be estimated as:\n",
    "\n",
    "$$\n",
    "\\int_a^b q(x) \\mathrm{d}x = (b-a) \\int_a^b q(x) \\frac 1 {b-a} \\mathrm{d}x = (b-a) \\int_a^b q(x) f_U(x) \\mathrm{d}x = (b-a) \\mathbb{E}({q(U)})\n",
    "$$\n",
    "\n",
    "Here, $U$ is a continuous uniform random variable with density function $f_U(x) = \\frac 1 {b-a}$.\n",
    "\n",
    "#### Moving to high-dimension\n",
    "\n",
    "-   One dimension\n",
    "\n",
    "    $$\n",
    "    \\int_c^d q(x) \\mathrm{d}x = (b-a) \\mathbb{E}({q(U_x)})\n",
    "    $$\n",
    "\n",
    "-   Two and higher Dimension\n",
    "    $$\n",
    "    \\int_c^d \\int_a^b q(x,y) \\mathrm{d}x \\mathrm{d}y = (d-c)(b-a) \\mathbb{E}({q(U_x, U_y)})\n",
    "    $$\n",
    "\n",
    "Reference: FN6815 Lecture written by Dr. Yang Ye\n"
   ]
  },
  {
   "cell_type": "code",
   "execution_count": 6,
   "metadata": {},
   "outputs": [],
   "source": [
    "def mc_int_2d(func, rg1, rg2, N=int(1e6)):\n",
    "    nr1 = npr.uniform(rg1[0], rg1[1], size=N)\n",
    "    nr2 = npr.uniform(rg2[0], rg2[1], size=N)\n",
    "    sums = func(nr1, nr2)\n",
    "    # print(sums.shape)\n",
    "    res = np.mean(sums) * (rg1[1] - rg1[0]) * (rg2[1] - rg2[0])\n",
    "    std = np.std(sums) * (rg1[1] - rg1[0]) * (rg2[1] - rg2[0]) / np.sqrt(N)\n",
    "    return res, std"
   ]
  },
  {
   "cell_type": "code",
   "execution_count": 7,
   "metadata": {},
   "outputs": [],
   "source": [
    "def call_payoff(S1, S2, K1, K2):\n",
    "    return np.maximum(S2 - K2, 0) * (S1 > K1)\n",
    "\n",
    "# def put_payoff(S, strike):\n",
    "#     return np.maximum(strike - S, 0)\n",
    "\n",
    "def option_payoff(S_a, S_b, K1, K2, T, rf, sigma_1, sigma_2, payoff_func, z1, z2):\n",
    "    ST_a = gbm(S_a, rf, b_1, sigma_1, T, z1)\n",
    "    ST_b = gbm(S_b, rf, b_2, sigma_2, T, z2)\n",
    "    return payoff_func(ST_a, ST_b, K1, K2)"
   ]
  },
  {
   "cell_type": "code",
   "execution_count": 8,
   "metadata": {},
   "outputs": [],
   "source": [
    "def rainbow_opt_integrand(S_a, S_b, K1, K2, T, rf, sigma_1, sigma_2, rho, payoff_func):\n",
    "    def _inner(z1, z2, payoff_func=payoff_func):\n",
    "        return option_payoff(\n",
    "            S_a, S_b, K1, K2, T, rf, sigma_1, sigma_2, payoff_func, z1, z2\n",
    "        ) * sps.multivariate_normal.pdf(np.vstack((z1, z2)).T, mean=[0, 0], cov=np.array([[1, rho], [rho, 1]]))\n",
    "\n",
    "    return _inner"
   ]
  },
  {
   "cell_type": "code",
   "execution_count": 9,
   "metadata": {},
   "outputs": [
    {
     "name": "stdout",
     "output_type": "stream",
     "text": [
      "call price:  3.250256075516205 standard deviation:  0.010092872609807464\n"
     ]
    }
   ],
   "source": [
    "integral = mc_int_2d(rainbow_opt_integrand(S_a, S_b, X_1, X_2, T, rf, sigma_1, sigma_2, rho, call_payoff), (-10, 10), (-10, 10), int(10000000))\n",
    "c = np.exp(-rf * T) * integral[0]\n",
    "print('call price: ', c, 'standard deviation: ', integral[1])"
   ]
  }
 ],
 "metadata": {
  "kernelspec": {
   "display_name": "FN6905",
   "language": "python",
   "name": "python3"
  },
  "language_info": {
   "codemirror_mode": {
    "name": "ipython",
    "version": 3
   },
   "file_extension": ".py",
   "mimetype": "text/x-python",
   "name": "python",
   "nbconvert_exporter": "python",
   "pygments_lexer": "ipython3",
   "version": "3.11.8"
  }
 },
 "nbformat": 4,
 "nbformat_minor": 2
}
