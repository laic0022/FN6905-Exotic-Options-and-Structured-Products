{
 "cells": [
  {
   "cell_type": "code",
   "execution_count": 22,
   "metadata": {},
   "outputs": [],
   "source": [
    "import pandas as pd\n",
    "import numpy as np\n",
    "import matplotlib.pyplot as plt\n",
    "import scipy.stats as sps\n",
    "import numpy.random as npr"
   ]
  },
  {
   "cell_type": "code",
   "execution_count": 289,
   "metadata": {},
   "outputs": [],
   "source": [
    "S_a = 52\n",
    "S_b = 65\n",
    "X_1 = 50\n",
    "X_2 = 70\n",
    "rf = 0.1\n",
    "b_1 = 0.1\n",
    "b_2 = 0.1\n",
    "sigma_1 = 0.2\n",
    "sigma_2 = 0.3\n",
    "rho = 0.75\n",
    "T = 0.5\n",
    "\n",
    "y1 = (np.log(S_a / X_1) + (rf - b_1 - sigma_1 ** 2 / 2) * T) / (sigma_1 * np.sqrt(T))\n",
    "y2 = (np.log(S_b / X_2) + (rf - b_2 - sigma_2 ** 2 / 2) * T) / (sigma_2 * np.sqrt(T))"
   ]
  },
  {
   "cell_type": "code",
   "execution_count": 295,
   "metadata": {},
   "outputs": [],
   "source": [
    "def std_bi_nd_cdf(x, y, rho):\n",
    "    return sps.multivariate_normal.cdf([x, y], mean=[0, 0], cov=np.array([[1, rho], [rho, 1]]))"
   ]
  },
  {
   "cell_type": "code",
   "execution_count": 296,
   "metadata": {},
   "outputs": [],
   "source": [
    "m1 = std_bi_nd_cdf(y2 + sigma_2 * np.sqrt(T), y1 + rho * sigma_2 * np.sqrt(T), rho)\n",
    "m2 = std_bi_nd_cdf(y2, y1, rho)"
   ]
  },
  {
   "cell_type": "code",
   "execution_count": 298,
   "metadata": {},
   "outputs": [
    {
     "data": {
      "text/plain": [
       "3.242527897551966"
      ]
     },
     "execution_count": 298,
     "metadata": {},
     "output_type": "execute_result"
    }
   ],
   "source": [
    "c = S_b * np.exp((-b_2 - rf*0) * T) * m1 - X_2 * np.exp(- rf * T) * m2\n",
    "c"
   ]
  },
  {
   "cell_type": "code",
   "execution_count": 232,
   "metadata": {},
   "outputs": [
    {
     "name": "stdout",
     "output_type": "stream",
     "text": [
      "Input correlation matrix: \n",
      "[[1.   0.75]\n",
      " [0.75 1.  ]]\n",
      "\n"
     ]
    }
   ],
   "source": [
    "corr = np.array([[1, rho], [rho, 1]])\n",
    "print(f\"Input correlation matrix: \\n{corr}\\n\")\n",
    "\n",
    "chol = np.linalg.cholesky(corr)\n",
    "z = np.matmul(chol, npr.normal(size=(2, 10000000)))"
   ]
  },
  {
   "cell_type": "code",
   "execution_count": 233,
   "metadata": {},
   "outputs": [],
   "source": [
    "# The GBM formula\n",
    "def gbm(S_0, rf, q, sigma, delta_t, z):\n",
    "    return S_0 * np.exp((rf - q - sigma**2 / 2) * delta_t + sigma * np.sqrt(delta_t) * z)"
   ]
  },
  {
   "cell_type": "code",
   "execution_count": 234,
   "metadata": {},
   "outputs": [
    {
     "name": "stdout",
     "output_type": "stream",
     "text": [
      "[[1.         0.74628276]\n",
      " [0.74628276 1.        ]]\n"
     ]
    }
   ],
   "source": [
    "p1 = gbm(S_a, rf, b_1, sigma_1, T, z[0, :])\n",
    "p2 = gbm(S_b, rf, b_2, sigma_2, T, z[1, :])\n",
    "\n",
    "# Calculate the correlation between the two price paths' return\n",
    "print(np.corrcoef(p1 / S_a - 1, p2 / S_b - 1))"
   ]
  },
  {
   "cell_type": "code",
   "execution_count": 235,
   "metadata": {},
   "outputs": [],
   "source": [
    "callpayoff = np.maximum(p2 - X_2, 0) * (p1 > X_1)"
   ]
  },
  {
   "cell_type": "code",
   "execution_count": 275,
   "metadata": {},
   "outputs": [
    {
     "data": {
      "text/plain": [
       "3.240683509312446"
      ]
     },
     "execution_count": 275,
     "metadata": {},
     "output_type": "execute_result"
    }
   ],
   "source": [
    "np.exp(- rf * T) * callpayoff.mean()"
   ]
  },
  {
   "cell_type": "code",
   "execution_count": 252,
   "metadata": {},
   "outputs": [],
   "source": [
    "def mc_int_2d(func, rg1, rg2, N=int(1e6)):\n",
    "    nr1 = npr.uniform(rg1[0], rg1[1], size=N)\n",
    "    nr2 = npr.uniform(rg2[0], rg2[1], size=N)\n",
    "    sums = func(nr1, nr2)\n",
    "    print(sums.shape)\n",
    "    res = np.mean(sums) * (rg1[1] - rg1[0]) * (rg2[1] - rg2[0])\n",
    "    std = np.std(sums) * (rg1[1] - rg1[0]) * (rg2[1] - rg2[0]) / np.sqrt(N)\n",
    "    return res, std"
   ]
  },
  {
   "cell_type": "code",
   "execution_count": 267,
   "metadata": {},
   "outputs": [],
   "source": [
    "def call_payoff(S1, S2, K1, K2):\n",
    "    return np.maximum(S2 - K2, 0) * (S1 > K1)\n",
    "\n",
    "\n",
    "# def put_payoff(S, strike):\n",
    "#     return np.maximum(strike - S, 0)\n",
    "\n",
    "def option_payoff(S_a, S_b, K1, K2, T, rf, sigma_1, sigma_2, payoff_func, z1, z2):\n",
    "    ST_a = gbm(S_a, rf, b_1, sigma_1, T, z1)\n",
    "    ST_b = gbm(S_b, rf, b_2, sigma_2, T, z2)\n",
    "    return payoff_func(ST_a, ST_b, K1, K2)"
   ]
  },
  {
   "cell_type": "code",
   "execution_count": 268,
   "metadata": {},
   "outputs": [],
   "source": [
    "def rainbow_opt_integrand(S_a, S_b, K1, K2, T, rf, sigma_1, sigma_2, rho, payoff_func):\n",
    "    def _inner(z1, z2, payoff_func=payoff_func):\n",
    "        return option_payoff(\n",
    "            S_a, S_b, K1, K2, T, rf, sigma_1, sigma_2, payoff_func, z1, z2\n",
    "        ) * sps.multivariate_normal.pdf(np.vstack((z1, z2)).T, mean=[0, 0], cov=np.array([[1, rho], [rho, 1]]))\n",
    "\n",
    "    return _inner"
   ]
  },
  {
   "cell_type": "code",
   "execution_count": 274,
   "metadata": {},
   "outputs": [
    {
     "name": "stdout",
     "output_type": "stream",
     "text": [
      "(10000000,)\n"
     ]
    },
    {
     "data": {
      "text/plain": [
       "3.248736296038302"
      ]
     },
     "execution_count": 274,
     "metadata": {},
     "output_type": "execute_result"
    }
   ],
   "source": [
    "np.exp(-rf * T) * mc_int_2d(rainbow_opt_integrand(S_a, S_b, X_1, X_2, T, rf, sigma_1, sigma_2, rho, call_payoff), (-10, 10), (-10, 10), int(10000000))[0]"
   ]
  },
  {
   "cell_type": "code",
   "execution_count": null,
   "metadata": {},
   "outputs": [],
   "source": []
  },
  {
   "cell_type": "markdown",
   "metadata": {},
   "source": []
  }
 ],
 "metadata": {
  "kernelspec": {
   "display_name": "FN6905",
   "language": "python",
   "name": "python3"
  },
  "language_info": {
   "codemirror_mode": {
    "name": "ipython",
    "version": 3
   },
   "file_extension": ".py",
   "mimetype": "text/x-python",
   "name": "python",
   "nbconvert_exporter": "python",
   "pygments_lexer": "ipython3",
   "version": "3.11.8"
  }
 },
 "nbformat": 4,
 "nbformat_minor": 2
}
